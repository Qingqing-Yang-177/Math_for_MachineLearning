{
 "cells": [
  {
   "cell_type": "markdown",
   "id": "f675fbe8",
   "metadata": {},
   "source": [
    "# Martix Computations"
   ]
  },
  {
   "cell_type": "code",
   "execution_count": 3,
   "id": "9d3c3a94",
   "metadata": {},
   "outputs": [
    {
     "data": {
      "text/plain": [
       "array([[ 0., -1.,  2.],\n",
       "       [-2.,  1.,  1.],\n",
       "       [ 1., -0., -1.]])"
      ]
     },
     "execution_count": 3,
     "metadata": {},
     "output_type": "execute_result"
    }
   ],
   "source": [
    "import numpy as np\n",
    "\n",
    "A = [[1, 1, 3],\n",
    "     [1, 2, 4],\n",
    "     [1, 1, 2]]\n",
    "Ainv = np.linalg.inv(A)\n",
    "Ainv"
   ]
  },
  {
   "cell_type": "code",
   "execution_count": 10,
   "id": "21c78885",
   "metadata": {},
   "outputs": [
    {
     "data": {
      "text/plain": [
       "array([[-1.50000000e+00,  5.00000000e-01,  5.00000000e-01],\n",
       "       [ 2.00000000e+00,  5.55111512e-17, -1.00000000e+00],\n",
       "       [ 5.00000000e-01, -5.00000000e-01,  5.00000000e-01]])"
      ]
     },
     "execution_count": 10,
     "metadata": {},
     "output_type": "execute_result"
    }
   ],
   "source": [
    "import numpy as np\n",
    "B = [[1, 1, 1],\n",
    "     [3, 2, 1],\n",
    "     [2, 1, 2]]\n",
    "Binv = np.linalg.inv(B)\n",
    "Binv"
   ]
  },
  {
   "cell_type": "code",
   "execution_count": 50,
   "id": "f7e23ff3",
   "metadata": {},
   "outputs": [
    {
     "data": {
      "text/plain": [
       "array([ 3.00000000e+00, -5.00000000e-01, -1.98254112e-17])"
      ]
     },
     "execution_count": 50,
     "metadata": {},
     "output_type": "execute_result"
    }
   ],
   "source": [
    "# Ar=s\n",
    "import numpy as np\n",
    "A = [[4, 6, 2],\n",
    "     [3, 4, 1],\n",
    "     [2, 8, 13]]\n",
    "\n",
    "s = [9, 7, 2]\n",
    "\n",
    "r = np.linalg.solve(A, s)\n",
    "r"
   ]
  },
  {
   "cell_type": "code",
   "execution_count": 21,
   "id": "b9497c27",
   "metadata": {},
   "outputs": [
    {
     "data": {
      "text/plain": [
       "array([9., 7., 2.])"
      ]
     },
     "execution_count": 21,
     "metadata": {},
     "output_type": "execute_result"
    }
   ],
   "source": [
    "# dot product\n",
    "A@r"
   ]
  },
  {
   "cell_type": "code",
   "execution_count": 55,
   "id": "141ab23f",
   "metadata": {},
   "outputs": [
    {
     "data": {
      "text/plain": [
       "array([[ 4.,  3.,  2.],\n",
       "       [ 6.,  4.,  8.],\n",
       "       [ 2.,  1., 13.]])"
      ]
     },
     "execution_count": 55,
     "metadata": {},
     "output_type": "execute_result"
    }
   ],
   "source": [
    "# transpose\n",
    "\n",
    "# Before transpose, make list to martix\n",
    "A = np.array([[4, 6, 2],\n",
    "     [3, 4, 1],\n",
    "     [2, 8, 13]], dtype=np.float_)\n",
    "\n",
    "\n",
    "A.transpose()"
   ]
  }
 ],
 "metadata": {
  "kernelspec": {
   "display_name": "Python 3 (ipykernel)",
   "language": "python",
   "name": "python3"
  },
  "language_info": {
   "codemirror_mode": {
    "name": "ipython",
    "version": 3
   },
   "file_extension": ".py",
   "mimetype": "text/x-python",
   "name": "python",
   "nbconvert_exporter": "python",
   "pygments_lexer": "ipython3",
   "version": "3.9.7"
  }
 },
 "nbformat": 4,
 "nbformat_minor": 5
}
