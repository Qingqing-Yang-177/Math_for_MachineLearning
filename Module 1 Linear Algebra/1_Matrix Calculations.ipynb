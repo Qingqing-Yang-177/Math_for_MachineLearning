{
 "cells": [
  {
   "cell_type": "markdown",
   "id": "f675fbe8",
   "metadata": {},
   "source": [
    "# Martix Computations"
   ]
  },
  {
   "cell_type": "code",
   "execution_count": 3,
   "id": "9d3c3a94",
   "metadata": {},
   "outputs": [
    {
     "data": {
      "text/plain": [
       "array([[ 0., -1.,  2.],\n",
       "       [-2.,  1.,  1.],\n",
       "       [ 1., -0., -1.]])"
      ]
     },
     "execution_count": 3,
     "metadata": {},
     "output_type": "execute_result"
    }
   ],
   "source": [
    "import numpy as np\n",
    "\n",
    "A = [[1, 1, 3],\n",
    "     [1, 2, 4],\n",
    "     [1, 1, 2]]\n",
    "Ainv = np.linalg.inv(A)\n",
    "Ainv"
   ]
  },
  {
   "cell_type": "code",
   "execution_count": 10,
   "id": "21c78885",
   "metadata": {},
   "outputs": [
    {
     "data": {
      "text/plain": [
       "array([[-1.50000000e+00,  5.00000000e-01,  5.00000000e-01],\n",
       "       [ 2.00000000e+00,  5.55111512e-17, -1.00000000e+00],\n",
       "       [ 5.00000000e-01, -5.00000000e-01,  5.00000000e-01]])"
      ]
     },
     "execution_count": 10,
     "metadata": {},
     "output_type": "execute_result"
    }
   ],
   "source": [
    "import numpy as np\n",
    "B = [[1, 1, 1],\n",
    "     [3, 2, 1],\n",
    "     [2, 1, 2]]\n",
    "Binv = np.linalg.inv(B)\n",
    "Binv"
   ]
  },
  {
   "cell_type": "code",
   "execution_count": 50,
   "id": "f7e23ff3",
   "metadata": {},
   "outputs": [
    {
     "data": {
      "text/plain": [
       "array([ 3.00000000e+00, -5.00000000e-01, -1.98254112e-17])"
      ]
     },
     "execution_count": 50,
     "metadata": {},
     "output_type": "execute_result"
    }
   ],
   "source": [
    "# Ar=s\n",
    "import numpy as np\n",
    "A = [[4, 6, 2],\n",
    "     [3, 4, 1],\n",
    "     [2, 8, 13]]\n",
    "\n",
    "s = [9, 7, 2]\n",
    "\n",
    "r = np.linalg.solve(A, s)\n",
    "r"
   ]
  },
  {
   "cell_type": "code",
   "execution_count": 21,
   "id": "b9497c27",
   "metadata": {},
   "outputs": [
    {
     "data": {
      "text/plain": [
       "array([9., 7., 2.])"
      ]
     },
     "execution_count": 21,
     "metadata": {},
     "output_type": "execute_result"
    }
   ],
   "source": [
    "# dot product\n",
    "A@r"
   ]
  },
  {
   "cell_type": "code",
   "execution_count": 55,
   "id": "141ab23f",
   "metadata": {},
   "outputs": [
    {
     "data": {
      "text/plain": [
       "array([[ 4.,  3.,  2.],\n",
       "       [ 6.,  4.,  8.],\n",
       "       [ 2.,  1., 13.]])"
      ]
     },
     "execution_count": 55,
     "metadata": {},
     "output_type": "execute_result"
    }
   ],
   "source": [
    "# transpose\n",
    "\n",
    "# Before transpose, make list to martix\n",
    "A = np.array([[4, 6, 2],\n",
    "     [3, 4, 1],\n",
    "     [2, 8, 13]], dtype=np.float_)\n",
    "\n",
    "\n",
    "A.transpose()"
   ]
  },
  {
   "cell_type": "code",
   "execution_count": 2,
   "id": "b1bde016",
   "metadata": {},
   "outputs": [
    {
     "data": {
      "text/plain": [
       "array([1., 2., 3.])"
      ]
     },
     "execution_count": 2,
     "metadata": {},
     "output_type": "execute_result"
    }
   ],
   "source": [
    "# Eigen-values\n",
    "import numpy as np\n",
    "M = np.array([[1, 0, 0],\n",
    "              [0, 2, 0],\n",
    "              [0, 0, 3]])\n",
    "vals, vecs = np.linalg.eig(M)\n",
    "vals"
   ]
  },
  {
   "cell_type": "code",
   "execution_count": 3,
   "id": "9dcb903f",
   "metadata": {},
   "outputs": [
    {
     "data": {
      "text/plain": [
       "array([[1., 0., 0.],\n",
       "       [0., 1., 0.],\n",
       "       [0., 0., 1.]])"
      ]
     },
     "execution_count": 3,
     "metadata": {},
     "output_type": "execute_result"
    }
   ],
   "source": [
    "# Eigen_vectors\n",
    "import numpy as np\n",
    "M = np.array([[1, 0, 0],\n",
    "              [0, 2, 0],\n",
    "              [0, 0, 3]])\n",
    "vals, vecs = np.linalg.eig(M)\n",
    "vecs"
   ]
  },
  {
   "cell_type": "code",
   "execution_count": 4,
   "id": "bad64e06",
   "metadata": {},
   "outputs": [
    {
     "data": {
      "text/plain": [
       "array([[-0.6882472 , -0.66666667,  0.40824829],\n",
       "       [-0.6882472 , -0.66666667, -0.40824829],\n",
       "       [-0.22941573,  0.33333333, -0.81649658]])"
      ]
     },
     "execution_count": 4,
     "metadata": {},
     "output_type": "execute_result"
    }
   ],
   "source": [
    "# Eigen_vectors\n",
    "import numpy as np\n",
    "M = np.array([[4, -5, 6],\n",
    "              [7, -8, 6],\n",
    "              [3/2, -1/2, -2]])\n",
    "vals, vecs = np.linalg.eig(M)\n",
    "vecs"
   ]
  },
  {
   "cell_type": "code",
   "execution_count": 23,
   "id": "c0535080",
   "metadata": {},
   "outputs": [
    {
     "name": "stdout",
     "output_type": "stream",
     "text": [
      "[-1.00000000e+00+0.j  6.44695442e-17+1.j  6.44695442e-17-1.j\n",
      "  1.00000000e+00+0.j]\n"
     ]
    },
    {
     "data": {
      "text/plain": [
       "array([[-5.00000000e-01+0.00000000e+00j,  1.93989553e-16+5.00000000e-01j,\n",
       "         1.93989553e-16-5.00000000e-01j, -5.00000000e-01+0.00000000e+00j],\n",
       "       [ 5.00000000e-01+0.00000000e+00j,  5.00000000e-01-1.64505588e-16j,\n",
       "         5.00000000e-01+1.64505588e-16j, -5.00000000e-01+0.00000000e+00j],\n",
       "       [-5.00000000e-01+0.00000000e+00j,  7.20002994e-18-5.00000000e-01j,\n",
       "         7.20002994e-18+5.00000000e-01j, -5.00000000e-01+0.00000000e+00j],\n",
       "       [ 5.00000000e-01+0.00000000e+00j, -5.00000000e-01+0.00000000e+00j,\n",
       "        -5.00000000e-01-0.00000000e+00j, -5.00000000e-01+0.00000000e+00j]])"
      ]
     },
     "execution_count": 23,
     "metadata": {},
     "output_type": "execute_result"
    }
   ],
   "source": [
    "# Eigen_vectors\n",
    "import numpy as np\n",
    "M = np.array([[0,0,0,1],\n",
    "              [1,0,0,0],\n",
    "              [0,1,0,0],\n",
    "              [0,0,1,0]])\n",
    "vals, vecs = np.linalg.eig(M)\n",
    "print(vals)\n",
    "vecs"
   ]
  },
  {
   "cell_type": "code",
   "execution_count": 20,
   "id": "b3e44cb2",
   "metadata": {},
   "outputs": [
    {
     "name": "stdout",
     "output_type": "stream",
     "text": [
      "[1.8660254 0.1339746]\n"
     ]
    },
    {
     "data": {
      "text/plain": [
       "array([[ 0.9390708 ,  0.59069049],\n",
       "       [-0.34372377,  0.80689822]])"
      ]
     },
     "execution_count": 20,
     "metadata": {},
     "output_type": "execute_result"
    }
   ],
   "source": [
    "# Eigen_vectors\n",
    "import numpy as np\n",
    "M = np.array([[3/2,-1],\n",
    "              [-1/2,1/2]])\n",
    "vals, vecs = np.linalg.eig(M)\n",
    "print(vals)\n",
    "vecs"
   ]
  },
  {
   "cell_type": "code",
   "execution_count": 22,
   "id": "5c763452",
   "metadata": {},
   "outputs": [
    {
     "data": {
      "text/plain": [
       "array([[ 2.75, -2.  ],\n",
       "       [-1.  ,  0.75]])"
      ]
     },
     "execution_count": 22,
     "metadata": {},
     "output_type": "execute_result"
    }
   ],
   "source": [
    "D=np.array([[vals[0],0],\n",
    "           [0,vals[1]]])\n",
    "vecs@D@D@np.linalg.inv(vecs)"
   ]
  },
  {
   "cell_type": "code",
   "execution_count": 17,
   "id": "4d265047",
   "metadata": {},
   "outputs": [
    {
     "data": {
      "text/plain": [
       "0.732050803135989"
      ]
     },
     "execution_count": 17,
     "metadata": {},
     "output_type": "execute_result"
    }
   ],
   "source": [
    "0.59069049/0.80689822"
   ]
  },
  {
   "cell_type": "code",
   "execution_count": 19,
   "id": "a1fec14e",
   "metadata": {},
   "outputs": [
    {
     "data": {
      "text/plain": [
       "-2.7320507976506834"
      ]
     },
     "execution_count": 19,
     "metadata": {},
     "output_type": "execute_result"
    }
   ],
   "source": [
    "0.9390708/-0.34372377"
   ]
  },
  {
   "cell_type": "code",
   "execution_count": 18,
   "id": "dd4c3624",
   "metadata": {},
   "outputs": [
    {
     "data": {
      "text/plain": [
       "0.7320508075688772"
      ]
     },
     "execution_count": 18,
     "metadata": {},
     "output_type": "execute_result"
    }
   ],
   "source": [
    "np.sqrt(3)-1"
   ]
  }
 ],
 "metadata": {
  "kernelspec": {
   "display_name": "Python 3 (ipykernel)",
   "language": "python",
   "name": "python3"
  },
  "language_info": {
   "codemirror_mode": {
    "name": "ipython",
    "version": 3
   },
   "file_extension": ".py",
   "mimetype": "text/x-python",
   "name": "python",
   "nbconvert_exporter": "python",
   "pygments_lexer": "ipython3",
   "version": "3.9.7"
  }
 },
 "nbformat": 4,
 "nbformat_minor": 5
}
